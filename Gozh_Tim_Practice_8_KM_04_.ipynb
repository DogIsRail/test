{
  "nbformat": 4,
  "nbformat_minor": 0,
  "metadata": {
    "colab": {
      "name": "Practice_7_KM-01_.ipynb",
      "provenance": [],
      "collapsed_sections": []
    },
    "kernelspec": {
      "name": "python3",
      "display_name": "Python 3"
    }
  },
  "cells": [
    {
      "cell_type": "markdown",
      "metadata": {
        "id": "FMqboNwO4rVs"
      },
      "source": [
        "# **Курс \"Програмування на мові Python\"**\n",
        "\n",
        "##### Викладачі:\n",
        "##### Борисенко Павло Борисович\n",
        "##### Щьоголєв Максим Олегович\n"
      ]
    },
    {
      "cell_type": "markdown",
      "metadata": {
        "id": "A2T6MigL5Z06"
      },
      "source": [
        "## **Практичне зайняття №8**\n",
        "\n",
        "### Тема: \"Робота з функціями. Локальні та глобальні змінні\""
      ]
    },
    {
      "cell_type": "markdown",
      "metadata": {
        "id": "cfCdgK2zXm7e"
      },
      "source": [
        "### **Завдання 1 (3 бали)**\n",
        "\n",
        "**Підрахувати визначник матриці, використовуючи правило перестановок.**\n",
        "\n",
        "Функція random_matrix() призначена для створення квадратної матриці випадкових чисел. Її змінювати непотрібно.\n",
        "\n",
        "Приклад використання методу permutations() для створення списку перестановок також подається у комірці з кодом.\n",
        "\n",
        "1) Створити 3 функції: функцію створення списку перестановок, функцію підрахунку добутків та функцію підрахунку загальної суми.\n",
        "\n",
        "2) Кожна функція має супроводжуватись рядком документації, що буде коротко описувати її призначення.\n",
        "\n",
        "3) Розмірність квадратної матриці має вводитись користувачем з клавіатури. Підрахунки виконувати лише в тому разі, якщо користувач введе ціле додатне число.\n",
        "\n",
        "4) Загальний результат повинен підраховуватись за допомогою композиції функцій.\n",
        "\n",
        "За бажання можна перевірити правильність роботи програми за допомогою функції np.linalg.det(a)."
      ]
    },
    {
      "cell_type": "code",
      "metadata": {
        "id": "ifNX2M7LXm7f"
      },
      "source": [
        "import math as mt\n",
        "import numpy as np\n",
        "import itertools\n",
        "\n",
        "\n",
        "def random_matrix(dim):\n",
        "    \"\"\"\n",
        "    The function generates dim x dim array of integers\n",
        "    between 0 and 10.\n",
        "    \"\"\"\n",
        "    matrix = np.random.randint(10, size=(dim, dim))\n",
        "    return matrix\n",
        "\n",
        "\n",
        "def pmtn(n):    # list of permutations from n integers\n",
        "    b = ''\n",
        "    for j in range(n):\n",
        "        b += str(j+1)\n",
        "    t = list(itertools.permutations(b, len(b)))\n",
        "    return t\n",
        "\n",
        "\n",
        "def smm(A, n, z):    # calculation of determinant, sorry I can't split it in 2 functions before the deadline\n",
        "    d = 0\n",
        "    q = []\n",
        "    e = 0\n",
        "    cs = 1\n",
        "    a = 0\n",
        "    for m in range(mt.factorial(n)):\n",
        "        for i in z:\n",
        "            for k in range(n):\n",
        "                for l in range(n - k):\n",
        "                    if i[k] > i[k + l]:\n",
        "                        a += 1\n",
        "            if a % 2 == 0:\n",
        "                q += '2'\n",
        "            else:\n",
        "                q += \"0\"\n",
        "            a = 0\n",
        "        for k in range(n):\n",
        "            cs *= A[k][int(z[m][k]) - 1]\n",
        "        cs *= int(q[e])-1\n",
        "        e+=1\n",
        "        d += cs\n",
        "        cs = 1\n",
        "    return d\n",
        "\n",
        "\n",
        "n = input()\n",
        "while type(n) != int or n < 0:\n",
        "    while type(n) != int:\n",
        "        try:\n",
        "            n = int(n)\n",
        "        except ValueError:\n",
        "            if type(n) == int:\n",
        "                break\n",
        "            n = input('incorrect value')\n",
        "    if n < 0:\n",
        "        n = input('incorrect value')\n",
        "A = random_matrix(n)\n",
        "print(A)\n",
        "print(smm(A, n, pmtn(n)))\n",
        "print(np.linalg.det(A))\n"
      ],
      "execution_count": null,
      "outputs": []
    }
  ]
}