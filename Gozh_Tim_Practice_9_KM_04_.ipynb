{
  "nbformat": 4,
  "nbformat_minor": 0,
  "metadata": {
    "colab": {
      "name": "Practice_7_KM-01_.ipynb",
      "provenance": [],
      "collapsed_sections": []
    },
    "kernelspec": {
      "name": "python3",
      "display_name": "Python 3"
    }
  },
  "cells": [
    {
      "cell_type": "markdown",
      "metadata": {
        "id": "FMqboNwO4rVs"
      },
      "source": [
        "# **Курс \"Програмування на мові Python\"**\n",
        "\n",
        "##### Викладачі:\n",
        "##### Борисенко Павло Борисович\n",
        "##### Щьоголєв Максим Олегович\n"
      ]
    },
    {
      "cell_type": "markdown",
      "metadata": {
        "id": "A2T6MigL5Z06"
      },
      "source": [
        "## **Практичне зайняття №9**\n",
        "\n",
        "### Тема: \"Лямбда-функції. Функції вищих порядків\""
      ]
    },
    {
      "cell_type": "markdown",
      "metadata": {
        "id": "cfCdgK2zXm7e"
      },
      "source": [
        "### **Завдання 1 (1 бал)**\n",
        "\n",
        "Керівництво будівельної компанії вирішило підняти заробітні плати всім своїм працівникам на 30%. В залежності від спеціалізації та стажу працівники мають різну заробітну плату. Для підготовки звіту необхідно розрахувати нову заробітну плату для працівників компанії, а також суму індексації.\n",
        "\n",
        "Написати програму, яка буде генерувати таблицю для цього звіту. Початкова заробітна плата працівників подана у списку salary_list (у тисячах гривень). \n",
        "\n",
        "1. Для підрахунку невідомих значень повинні використовуватись вбудовані функції вищих порядків.\n",
        "\n",
        "2. Зарплата після індексації та сума індексації для працівників різних категорій повинні зберігатись у двох окремих списках. Порядок значень у кожному з нових списків повинен відповідати порядку значень у списку salary_list.\n",
        "\n",
        "3. Кожне підраховане числове значення має бути округлене до сотих.\n",
        "\n",
        "4. Дані повинні виводитись у вигляді:\n",
        "\n",
        "**Salary table:**\n",
        "\n",
        "**7.3 9.49 2.19**\n",
        "\n",
        "**8.5 11.05 2.55**\n",
        "\n",
        "**...**\n",
        "\n",
        "salary_list = [[7.3, 8.5, 11, 12.7, 15.2, 21.12, 27.35]]"
      ]
    },
    {
      "cell_type": "code",
      "metadata": {
        "id": "ifNX2M7LXm7f"
      },
      "source": [
        "salary_list = [7.3, 8.5, 11, 12.7, 15.2, 21.12, 27.35]\n",
        "index_salary = list(map(lambda i: i*1.3, salary_list))\n",
        "index_salary = list(map(lambda i: round(i,2), index_salary))\n",
        "index_summ = list(map(lambda salary, indx: indx-salary,salary_list, index_salary))\n",
        "index_summ = list(map(lambda i: round(i,2), index_summ))\n",
        "for i in range(len(salary_list)):\n",
        "    print(salary_list[i], index_salary[i], index_summ[i])"
      ],
      "execution_count": null,
      "outputs": []
    },
    {
      "source": [
        "### **Завдання 2 (2 бали)**\n",
        "\n",
        "Зазвичай рік має 365 днів. Однак у високосні роки додається ще один день - 29 лютого. Правила визначення високосного року такі:\n",
        "\n",
        "- Будь-який рік, що ділиться на 400 - високосний.\n",
        "\n",
        "- З тих років, що залишились, будь-який рік, що ділиться на 100 - **не** високосний.\n",
        "\n",
        "- З тих років, що залишились, будь-який рік, що ділиться на 4 - високосний.\n",
        "\n",
        "- Усі інші роки, що залишились - **не** високосні.\n",
        "\n",
        "1) Створіть функцію, в якій за допомогою вбудованих функцій вищих порядків будуть визначатися високосні роки серед перелічених років у списку years. Створена функція має повертати список високосних років.\n",
        "\n",
        "2) Створіть функцію вищих порядків, яка прийматиме на вхід попередню функцію та визначатиме кількість днів у місяці. Також функція повинна приймати на вхід ще 2 параметри: ціле число від 1 до 12 (місяць) та рік, як ціле чотирицифрове число. Ці значення корисувач має вводити з клавіатури. Перевірку введених даних слід виконувати поза межами функцій."
      ],
      "cell_type": "markdown",
      "metadata": {}
    },
    {
      "cell_type": "code",
      "execution_count": null,
      "metadata": {},
      "outputs": [],
      "source": [
        "import numpy as np\n",
        "\n",
        "\n",
        "def leap(years):\n",
        "    d1 = list(filter(lambda i: (i % 400 != 0 and i % 100 != 0 and i % 4 == 0) or i % 400 == 0, years))\n",
        "    return d1\n",
        "\n",
        "\n",
        "def days(function, month, year):\n",
        "    years = np.arange(1900, 2020 + 1, 1)\n",
        "    d31 = [1, 3, 5, 7, 8, 10, 12]\n",
        "    d30 = [4, 6, 9, 11]\n",
        "    d2 = list(filter(lambda a: a == month, d31))\n",
        "    d3 = list(filter(lambda a: a == month, d30))\n",
        "    d4 = list(filter(lambda a: month == 2 and a == year, leap(years)))\n",
        "    d5 = (len(d2)*31)+(len(d3)*30)+(len(d4)*29)\n",
        "    if d5 == 0:\n",
        "        d5 = 28\n",
        "    return d5\n",
        "\n",
        "\n",
        "def value_checker(leng, leng2, name):\n",
        "    while True:\n",
        "        try:\n",
        "            print('input', name)\n",
        "            a = int(input())\n",
        "            if len(str(a)) == leng:\n",
        "                break\n",
        "            elif len(str(a)) == leng2:\n",
        "                break\n",
        "            else:\n",
        "                raise ValueError\n",
        "        except ValueError:\n",
        "            print(\"wrong value\")\n",
        "    return a\n",
        "\n",
        "\n",
        "month = value_checker(1,2,'month')\n",
        "year = value_checker(4, 4, 'year')\n",
        "print('number of days:', days(leap, month, year))\n"
      ]
    }
  ]
}